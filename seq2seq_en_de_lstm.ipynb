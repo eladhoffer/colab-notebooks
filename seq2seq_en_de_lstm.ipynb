{
  "nbformat": 4,
  "nbformat_minor": 0,
  "metadata": {
    "colab": {
      "name": "seq2seq_en_de_lstm.ipynb",
      "version": "0.3.2",
      "provenance": [],
      "collapsed_sections": [],
      "include_colab_link": true
    },
    "kernelspec": {
      "name": "python3",
      "display_name": "Python 3"
    },
    "accelerator": "GPU"
  },
  "cells": [
    {
      "cell_type": "markdown",
      "metadata": {
        "id": "view-in-github",
        "colab_type": "text"
      },
      "source": [
        "<a href=\"https://colab.research.google.com/github/eladhoffer/colab-notebooks/blob/master/seq2seq_en_de_lstm.ipynb\" target=\"_parent\"><img src=\"https://colab.research.google.com/assets/colab-badge.svg\" alt=\"Open In Colab\"/></a>"
      ]
    },
    {
      "metadata": {
        "id": "HyoJCqMprBNz",
        "colab_type": "code",
        "outputId": "34ba88da-058f-4bc2-a403-f22f39c9c1f2",
        "colab": {
          "base_uri": "https://localhost:8080/",
          "height": 238
        }
      },
      "cell_type": "code",
      "source": [
        "!pip install git+https://github.com/eladhoffer/seq2seq.pytorch.git@master\n",
        "!pip install sentencepiece"
      ],
      "execution_count": 1,
      "outputs": [
        {
          "output_type": "stream",
          "text": [
            "Collecting git+https://github.com/eladhoffer/seq2seq.pytorch.git@master\n",
            "  Cloning https://github.com/eladhoffer/seq2seq.pytorch.git (to revision master) to /tmp/pip-req-build-i68z22u7\n",
            "Building wheels for collected packages: seq2seq\n",
            "  Building wheel for seq2seq (setup.py) ... \u001b[?25ldone\n",
            "\u001b[?25h  Stored in directory: /tmp/pip-ephem-wheel-cache-5j65rsf5/wheels/c0/bd/47/870568c5f99260b347e19e611215312ea3c89603e75662d033\n",
            "Successfully built seq2seq\n",
            "Installing collected packages: seq2seq\n",
            "Successfully installed seq2seq-0.1.0\n",
            "Collecting sentencepiece\n",
            "\u001b[?25l  Downloading https://files.pythonhosted.org/packages/ed/86/aeb647d3ccb924997ea0d05b457d82648a1da57c471688ffbbd69650d9bc/sentencepiece-0.1.8-cp36-cp36m-manylinux1_x86_64.whl (1.0MB)\n",
            "\u001b[K    100% |████████████████████████████████| 1.0MB 18.8MB/s \n",
            "\u001b[?25hInstalling collected packages: sentencepiece\n",
            "Successfully installed sentencepiece-0.1.8\n"
          ],
          "name": "stdout"
        }
      ]
    },
    {
      "metadata": {
        "id": "Is1zFtofq1mp",
        "colab_type": "code",
        "colab": {}
      },
      "cell_type": "code",
      "source": [
        "import torch\n",
        "import seq2seq\n",
        "from torch.utils.model_zoo import load_url\n",
        "from seq2seq.tools.inference import Translator"
      ],
      "execution_count": 0,
      "outputs": []
    },
    {
      "metadata": {
        "id": "sA0PSRwpq3na",
        "colab_type": "code",
        "colab": {}
      },
      "cell_type": "code",
      "source": [
        "checkpoint = load_url('https://dl.dropboxusercontent.com/s/rwv7ek8yrfwle4a/lstm_en_de-f1ed21ec.pth?dl=0', map_location='cpu')\n",
        "model = Translator(checkpoint, beam_size=5, device='cuda')\n"
      ],
      "execution_count": 0,
      "outputs": []
    },
    {
      "metadata": {
        "id": "LcSRfyPAq8Ao",
        "colab_type": "code",
        "colab": {
          "base_uri": "https://localhost:8080/",
          "height": 51
        },
        "outputId": "d10dc5d0-d2b1-42b7-95ee-ccab3c66c288"
      },
      "cell_type": "code",
      "source": [
        "model.translate(['hello world',\n",
        "                 'this is a trial translation from English to German using an LSTM'\n",
        "                ])"
      ],
      "execution_count": 8,
      "outputs": [
        {
          "output_type": "execute_result",
          "data": {
            "text/plain": [
              "['helle Welt',\n",
              " 'Dies ist eine Testübersetzung von Englisch zu Deutsch mit einem LSTM']"
            ]
          },
          "metadata": {
            "tags": []
          },
          "execution_count": 8
        }
      ]
    },
    {
      "metadata": {
        "id": "Ia-ExeYF2h-s",
        "colab_type": "code",
        "colab": {}
      },
      "cell_type": "code",
      "source": [
        ""
      ],
      "execution_count": 0,
      "outputs": []
    }
  ]
}